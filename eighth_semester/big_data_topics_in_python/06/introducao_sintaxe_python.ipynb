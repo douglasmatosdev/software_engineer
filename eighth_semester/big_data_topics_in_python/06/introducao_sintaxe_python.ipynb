{
 "cells": [
  {
   "cell_type": "code",
   "execution_count": 15,
   "id": "de63390e-8565-47c4-abe5-02658e2c4640",
   "metadata": {},
   "outputs": [],
   "source": [
    "exemplo_string = \"batata\"\n",
    "exemplo_lista = ['a','b','c','a','b','c']\n",
    "exemplo_tupla = ('onde','quando','porquê')\n",
    "exemplo_conjunto = set(exemplo_lista)\n",
    "exemplo_conjunto = 1\n",
    "exemplo_racional = 3.3\n",
    "exemplo_complexo = 1e10\n",
    "exemplo_booleano = True"
   ]
  },
  {
   "cell_type": "code",
   "execution_count": 16,
   "id": "ab596508-d1a6-4684-bae9-7375e8200a37",
   "metadata": {},
   "outputs": [],
   "source": [
    "exemplo_dicionario = {\n",
    "    \"string\": exemplo_string,\n",
    "    \"lista\": exemplo_lista,\n",
    "    \"tupla\": exemplo_tupla,\n",
    "    \"conjunto\": exemplo_conjunto,\n",
    "    \"inteiro\": exemplo_conjunto,\n",
    "    \"racional\": exemplo_racional,\n",
    "    \"complexo\": exemplo_complexo,\n",
    "    \"booleano\": exemplo_booleano\n",
    "}"
   ]
  },
  {
   "cell_type": "code",
   "execution_count": 17,
   "id": "43d24d17-81d3-480f-8383-01e90a17c49d",
   "metadata": {},
   "outputs": [
    {
     "name": "stdout",
     "output_type": "stream",
     "text": [
      "string : batata -Tipo-> <class 'str'>\n",
      "lista : ['a', 'b', 'c', 'a', 'b', 'c'] -Tipo-> <class 'list'>\n",
      "tupla : ('onde', 'quando', 'porquê') -Tipo-> <class 'tuple'>\n",
      "conjunto : 1 -Tipo-> <class 'int'>\n",
      "inteiro : 1 -Tipo-> <class 'int'>\n",
      "racional : 3.3 -Tipo-> <class 'float'>\n",
      "complexo : 10000000000.0 -Tipo-> <class 'float'>\n",
      "booleano : True -Tipo-> <class 'bool'>\n",
      "Dicionario do tipo:  <class 'dict'>\n"
     ]
    }
   ],
   "source": [
    "for k in exemplo_dicionario.keys():\n",
    "    print(k, \":\", exemplo_dicionario[k], \"-Tipo->\", type(exemplo_dicionario[k]))\n",
    "\n",
    "print(\"Dicionario do tipo: \", type(exemplo_dicionario))    "
   ]
  },
  {
   "cell_type": "markdown",
   "id": "a9a88097-592d-4b27-9835-7671bcbb0320",
   "metadata": {},
   "source": [
    "# Constructos da Linguagem\n",
    "\n",
    "Possíveis operadores Lógicos:\n",
    "\n",
    "`and` -> e -> conjunção -> a and b <=> a ^ b <=> \"a\" e \"b\"\n",
    "\n",
    "`or` -> ou -> disjunção -> a or b <=> a v b <=> \"a\" ou \"b\"\n",
    "\n",
    "`==` -> igual -> igualdade -> a == b -> a = b -> \"a\" igual à \"b\"\n",
    "\n",
    "`!=` diferente -> diferença -> a != b -> a <> b -> \"a\" diferente de \"b\"\n",
    "\n",
    "`>` -> maior do que -> a > b\n",
    "\n",
    "`<` -> menor do que -> a < b\n",
    "\n",
    "`>=` -> maior ou igual à -> a >= b\n",
    "\n",
    "`<=` -> menor ou igual à -> a <= b\n",
    "\n",
    "Possíveis operadores Matemáticos:\n",
    "\n",
    "`+` -> soma\n",
    "\n",
    "`-` -> subtração\n",
    "\n",
    "`*` -> multiplicação\n",
    "\n",
    "`/` -> divisão racional\n",
    "\n",
    "`//` -> divisão inteira\n",
    "\n",
    "`%` -> resto da divisão"
   ]
  },
  {
   "cell_type": "code",
   "execution_count": 19,
   "id": "16515beb-09b3-4f1c-966e-34fa5af5c12c",
   "metadata": {},
   "outputs": [
    {
     "name": "stdout",
     "output_type": "stream",
     "text": [
      "A maior do que B\n"
     ]
    }
   ],
   "source": [
    "a = 0\n",
    "b = 1\n",
    "if a > b:\n",
    "    print(\"A maior do que B\")\n",
    "elif a == b:\n",
    "    print(\"A igual à B\")\n",
    "else:\n",
    "    print(\"A maior do que B\")"
   ]
  },
  {
   "cell_type": "code",
   "execution_count": 1,
   "id": "a8bb812e-b6d7-40fb-83ab-6081ddb2dea6",
   "metadata": {},
   "outputs": [
    {
     "name": "stdout",
     "output_type": "stream",
     "text": [
      "0\n",
      "1\n",
      "2\n",
      "3\n",
      "4\n"
     ]
    }
   ],
   "source": [
    "for i in range(0,5):\n",
    "    print(i)"
   ]
  },
  {
   "cell_type": "code",
   "execution_count": 2,
   "id": "2edb44fd-6947-4cb1-983d-0029ecd806ec",
   "metadata": {},
   "outputs": [
    {
     "name": "stdout",
     "output_type": "stream",
     "text": [
      "1\n",
      "2\n",
      "3\n",
      "4\n",
      "5\n"
     ]
    }
   ],
   "source": [
    "i=0\n",
    "while i < 5:\n",
    "    i+=1\n",
    "    print(i)"
   ]
  },
  {
   "cell_type": "code",
   "execution_count": 3,
   "id": "56fc9d04-736d-4fb1-8303-94a682faf7a9",
   "metadata": {},
   "outputs": [
    {
     "name": "stdout",
     "output_type": "stream",
     "text": [
      "2\n"
     ]
    }
   ],
   "source": [
    "def soma(a,b):\n",
    "    return a+b\n",
    "print(soma(1, 1))"
   ]
  },
  {
   "cell_type": "code",
   "execution_count": 4,
   "id": "088c8836-9927-46f0-a10a-7660af470320",
   "metadata": {},
   "outputs": [],
   "source": [
    "class cachorro:\n",
    "    def __init__(self, nome, raca, tutor):\n",
    "        self.nome = nome\n",
    "        self.raca = raca\n",
    "        self.tutor = tutor\n",
    "    \n",
    "    def latir(self):\n",
    "        return \"!!au au au!!\""
   ]
  },
  {
   "cell_type": "code",
   "execution_count": 7,
   "id": "016e498f-b54d-4493-87b7-d1a2dfaf59f7",
   "metadata": {},
   "outputs": [
    {
     "name": "stdout",
     "output_type": "stream",
     "text": [
      "---------------------------------\n",
      "Dados do Terry:\n",
      "Nome: Terry\n",
      "Raça: Pastor Alemão\n",
      "Tutor: Fernando\n",
      "---------------------------------\n",
      "!!au au au!!\n"
     ]
    }
   ],
   "source": [
    "terry = cachorro(\"Terry\", \"Pastor Alemão\", \"Fernando\")\n",
    "\n",
    "print(\"---------------------------------\")\n",
    "print(\"Dados do Terry:\")\n",
    "print(\"Nome:\", terry.nome)\n",
    "print(\"Raça:\", terry.raca)\n",
    "print(\"Tutor:\", terry.tutor)\n",
    "print(\"---------------------------------\")\n",
    "print(terry.latir())"
   ]
  },
  {
   "cell_type": "code",
   "execution_count": 2,
   "id": "83496e77-059d-471a-8ee4-fc12cbefb4a6",
   "metadata": {},
   "outputs": [
    {
     "name": "stdout",
     "output_type": "stream",
     "text": [
      "---------(imprimindo o conteúdo do arquivo de texto)---------\n",
      "select *\n",
      "from table1\n",
      "where a >= 10\n"
     ]
    }
   ],
   "source": [
    "with open(\"./query.sql\") as file:\n",
    "    sql_query = file.read()\n",
    "\n",
    "print(\"---------(imprimindo o conteúdo do arquivo de texto)---------\")\n",
    "print(sql_query)"
   ]
  },
  {
   "cell_type": "code",
   "execution_count": 4,
   "id": "7b400b68-c14a-42a9-9211-736abf810e22",
   "metadata": {},
   "outputs": [
    {
     "name": "stdout",
     "output_type": "stream",
     "text": [
      "/bin/pip:6: DeprecationWarning: pkg_resources is deprecated as an API. See https://setuptools.pypa.io/en/latest/pkg_resources.html\n",
      "  from pkg_resources import load_entry_point\n",
      "Collecting sklearn\n",
      "  Using cached sklearn-0.0.post12.tar.gz (2.6 kB)\n",
      "\u001b[31m    ERROR: Command errored out with exit status 1:\n",
      "     command: /usr/bin/python3 -c 'import sys, setuptools, tokenize; sys.argv[0] = '\"'\"'/tmp/pip-install-bi_py7tt/sklearn/setup.py'\"'\"'; __file__='\"'\"'/tmp/pip-install-bi_py7tt/sklearn/setup.py'\"'\"';f=getattr(tokenize, '\"'\"'open'\"'\"', open)(__file__);code=f.read().replace('\"'\"'\\r\\n'\"'\"', '\"'\"'\\n'\"'\"');f.close();exec(compile(code, __file__, '\"'\"'exec'\"'\"'))' egg_info --egg-base /tmp/pip-install-bi_py7tt/sklearn/pip-egg-info\n",
      "         cwd: /tmp/pip-install-bi_py7tt/sklearn/\n",
      "    Complete output (15 lines):\n",
      "    The 'sklearn' PyPI package is deprecated, use 'scikit-learn'\n",
      "    rather than 'sklearn' for pip commands.\n",
      "    \n",
      "    Here is how to fix this error in the main use cases:\n",
      "    - use 'pip install scikit-learn' rather than 'pip install sklearn'\n",
      "    - replace 'sklearn' by 'scikit-learn' in your pip requirements files\n",
      "      (requirements.txt, setup.py, setup.cfg, Pipfile, etc ...)\n",
      "    - if the 'sklearn' package is used by one of your dependencies,\n",
      "      it would be great if you take some time to track which package uses\n",
      "      'sklearn' instead of 'scikit-learn' and report it to their issue tracker\n",
      "    - as a last resort, set the environment variable\n",
      "      SKLEARN_ALLOW_DEPRECATED_SKLEARN_PACKAGE_INSTALL=True to avoid this error\n",
      "    \n",
      "    More information is available at\n",
      "    https://github.com/scikit-learn/sklearn-pypi-package\n",
      "    ----------------------------------------\u001b[0m\n",
      "\u001b[31mERROR: Command errored out with exit status 1: python setup.py egg_info Check the logs for full command output.\u001b[0m\n"
     ]
    }
   ],
   "source": [
    "!pip3 install sklearn"
   ]
  },
  {
   "cell_type": "code",
   "execution_count": 5,
   "id": "57f6ecd0-1bf3-461f-b801-8e29220a4219",
   "metadata": {},
   "outputs": [
    {
     "ename": "ModuleNotFoundError",
     "evalue": "No module named 'sklearn'",
     "output_type": "error",
     "traceback": [
      "\u001b[0;31m---------------------------------------------------------------------------\u001b[0m",
      "\u001b[0;31mModuleNotFoundError\u001b[0m                       Traceback (most recent call last)",
      "Cell \u001b[0;32mIn[5], line 3\u001b[0m\n\u001b[1;32m      1\u001b[0m \u001b[38;5;28;01mfrom\u001b[39;00m \u001b[38;5;21;01mdatetime\u001b[39;00m \u001b[38;5;28;01mimport\u001b[39;00m datetime\n\u001b[1;32m      2\u001b[0m \u001b[38;5;28;01mimport\u001b[39;00m \u001b[38;5;21;01mos\u001b[39;00m\n\u001b[0;32m----> 3\u001b[0m \u001b[38;5;28;01mfrom\u001b[39;00m \u001b[38;5;21;01msklearn\u001b[39;00m \u001b[38;5;28;01mimport\u001b[39;00m \u001b[38;5;241m*\u001b[39m\n",
      "\u001b[0;31mModuleNotFoundError\u001b[0m: No module named 'sklearn'"
     ]
    }
   ],
   "source": [
    "from datetime import datetime\n",
    "import os\n",
    "from sklearn import *"
   ]
  },
  {
   "cell_type": "code",
   "execution_count": 6,
   "id": "61fea7d5-999e-48f0-9cc2-870fbc92b77f",
   "metadata": {},
   "outputs": [],
   "source": [
    "import pandas as pd"
   ]
  },
  {
   "cell_type": "code",
   "execution_count": 10,
   "id": "d073b0ae-4fe1-48ce-a862-8d9c22c9b2cb",
   "metadata": {},
   "outputs": [],
   "source": [
    "dataset = [\n",
    "    [0,0,0],\n",
    "    [0,1,1],\n",
    "    [1,0,1],\n",
    "    [1,1,1],\n",
    "]\n",
    "columns = [\"a\",\"b\", \"a_or_b\"]\n",
    "ordf = pd.DataFrame(dataset, columns = columns)"
   ]
  },
  {
   "cell_type": "code",
   "execution_count": 11,
   "id": "49fdc37a-2678-4a85-9933-fbd6650de458",
   "metadata": {},
   "outputs": [
    {
     "data": {
      "text/html": [
       "<div>\n",
       "<style scoped>\n",
       "    .dataframe tbody tr th:only-of-type {\n",
       "        vertical-align: middle;\n",
       "    }\n",
       "\n",
       "    .dataframe tbody tr th {\n",
       "        vertical-align: top;\n",
       "    }\n",
       "\n",
       "    .dataframe thead th {\n",
       "        text-align: right;\n",
       "    }\n",
       "</style>\n",
       "<table border=\"1\" class=\"dataframe\">\n",
       "  <thead>\n",
       "    <tr style=\"text-align: right;\">\n",
       "      <th></th>\n",
       "      <th>a</th>\n",
       "      <th>b</th>\n",
       "      <th>a_or_b</th>\n",
       "    </tr>\n",
       "  </thead>\n",
       "  <tbody>\n",
       "    <tr>\n",
       "      <th>0</th>\n",
       "      <td>0</td>\n",
       "      <td>0</td>\n",
       "      <td>0</td>\n",
       "    </tr>\n",
       "    <tr>\n",
       "      <th>1</th>\n",
       "      <td>0</td>\n",
       "      <td>1</td>\n",
       "      <td>1</td>\n",
       "    </tr>\n",
       "    <tr>\n",
       "      <th>2</th>\n",
       "      <td>1</td>\n",
       "      <td>0</td>\n",
       "      <td>1</td>\n",
       "    </tr>\n",
       "    <tr>\n",
       "      <th>3</th>\n",
       "      <td>1</td>\n",
       "      <td>1</td>\n",
       "      <td>1</td>\n",
       "    </tr>\n",
       "  </tbody>\n",
       "</table>\n",
       "</div>"
      ],
      "text/plain": [
       "   a  b  a_or_b\n",
       "0  0  0       0\n",
       "1  0  1       1\n",
       "2  1  0       1\n",
       "3  1  1       1"
      ]
     },
     "execution_count": 11,
     "metadata": {},
     "output_type": "execute_result"
    }
   ],
   "source": [
    "ordf"
   ]
  },
  {
   "cell_type": "code",
   "execution_count": 15,
   "id": "882bbea3-c420-49cb-871c-413d28e60b1d",
   "metadata": {},
   "outputs": [],
   "source": [
    "ordf.to_csv('./ordf.csv')"
   ]
  },
  {
   "cell_type": "code",
   "execution_count": 13,
   "id": "55e0a1a6-1c39-448f-94fe-0d39507fe500",
   "metadata": {},
   "outputs": [
    {
     "name": "stdout",
     "output_type": "stream",
     "text": [
      "ardf.csv  introducao_sintaxe_python.ipynb  query.sql\n"
     ]
    }
   ],
   "source": [
    "!ls"
   ]
  },
  {
   "cell_type": "code",
   "execution_count": 14,
   "id": "31e6a60b-2c79-4b51-b652-122e173ce285",
   "metadata": {},
   "outputs": [
    {
     "name": "stdout",
     "output_type": "stream",
     "text": [
      "/home/dsilva/www/software_engineer/eighth_semester/big_data_topics_in_python/06\n"
     ]
    }
   ],
   "source": [
    "!pwd"
   ]
  },
  {
   "cell_type": "code",
   "execution_count": 16,
   "id": "dec7da5b-77d9-4965-889e-f7e5743c6677",
   "metadata": {},
   "outputs": [],
   "source": [
    "lendo_o_Ativo_de_dados = pd.read_csv('./ordf.csv')"
   ]
  },
  {
   "cell_type": "code",
   "execution_count": 17,
   "id": "e7efba49",
   "metadata": {},
   "outputs": [
    {
     "data": {
      "text/html": [
       "<div>\n",
       "<style scoped>\n",
       "    .dataframe tbody tr th:only-of-type {\n",
       "        vertical-align: middle;\n",
       "    }\n",
       "\n",
       "    .dataframe tbody tr th {\n",
       "        vertical-align: top;\n",
       "    }\n",
       "\n",
       "    .dataframe thead th {\n",
       "        text-align: right;\n",
       "    }\n",
       "</style>\n",
       "<table border=\"1\" class=\"dataframe\">\n",
       "  <thead>\n",
       "    <tr style=\"text-align: right;\">\n",
       "      <th></th>\n",
       "      <th>Unnamed: 0</th>\n",
       "      <th>a</th>\n",
       "      <th>b</th>\n",
       "      <th>a_or_b</th>\n",
       "    </tr>\n",
       "  </thead>\n",
       "  <tbody>\n",
       "    <tr>\n",
       "      <th>0</th>\n",
       "      <td>0</td>\n",
       "      <td>0</td>\n",
       "      <td>0</td>\n",
       "      <td>0</td>\n",
       "    </tr>\n",
       "    <tr>\n",
       "      <th>1</th>\n",
       "      <td>1</td>\n",
       "      <td>0</td>\n",
       "      <td>1</td>\n",
       "      <td>1</td>\n",
       "    </tr>\n",
       "    <tr>\n",
       "      <th>2</th>\n",
       "      <td>2</td>\n",
       "      <td>1</td>\n",
       "      <td>0</td>\n",
       "      <td>1</td>\n",
       "    </tr>\n",
       "    <tr>\n",
       "      <th>3</th>\n",
       "      <td>3</td>\n",
       "      <td>1</td>\n",
       "      <td>1</td>\n",
       "      <td>1</td>\n",
       "    </tr>\n",
       "  </tbody>\n",
       "</table>\n",
       "</div>"
      ],
      "text/plain": [
       "   Unnamed: 0  a  b  a_or_b\n",
       "0           0  0  0       0\n",
       "1           1  0  1       1\n",
       "2           2  1  0       1\n",
       "3           3  1  1       1"
      ]
     },
     "execution_count": 17,
     "metadata": {},
     "output_type": "execute_result"
    }
   ],
   "source": [
    "lendo_o_Ativo_de_dados"
   ]
  },
  {
   "cell_type": "code",
   "execution_count": 18,
   "id": "e80fe026",
   "metadata": {},
   "outputs": [
    {
     "data": {
      "text/plain": [
       "array([[0, 0, 0, 0],\n",
       "       [1, 0, 1, 1],\n",
       "       [2, 1, 0, 1],\n",
       "       [3, 1, 1, 1]])"
      ]
     },
     "execution_count": 18,
     "metadata": {},
     "output_type": "execute_result"
    }
   ],
   "source": [
    "lendo_o_Ativo_de_dados.values"
   ]
  },
  {
   "cell_type": "code",
   "execution_count": 19,
   "id": "39655f13",
   "metadata": {},
   "outputs": [
    {
     "data": {
      "text/plain": [
       "Index(['Unnamed: 0', 'a', 'b', 'a_or_b'], dtype='object')"
      ]
     },
     "execution_count": 19,
     "metadata": {},
     "output_type": "execute_result"
    }
   ],
   "source": [
    "lendo_o_Ativo_de_dados.columns"
   ]
  },
  {
   "cell_type": "code",
   "execution_count": null,
   "id": "9e9007dd",
   "metadata": {},
   "outputs": [],
   "source": []
  }
 ],
 "metadata": {
  "kernelspec": {
   "display_name": "Python 3 (ipykernel)",
   "language": "python",
   "name": "python3"
  },
  "language_info": {
   "codemirror_mode": {
    "name": "ipython",
    "version": 3
   },
   "file_extension": ".py",
   "mimetype": "text/x-python",
   "name": "python",
   "nbconvert_exporter": "python",
   "pygments_lexer": "ipython3",
   "version": "3.8.10"
  }
 },
 "nbformat": 4,
 "nbformat_minor": 5
}
